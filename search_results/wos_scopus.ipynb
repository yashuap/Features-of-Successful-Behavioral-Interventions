{
 "cells": [
  {
   "cell_type": "code",
   "execution_count": 2,
   "id": "bfd5ead4",
   "metadata": {},
   "outputs": [
    {
     "name": "stdout",
     "output_type": "stream",
     "text": [
      "WoS Studies: 276\n",
      "Scopus Studies: 108\n"
     ]
    }
   ],
   "source": [
    "import pandas as pd\n",
    "import os\n",
    "\n",
    "# Web of Science data\n",
    "wos_df = pd.read_csv('savedrecs.csv')\n",
    "\n",
    "# Scopus data\n",
    "scopus_df = pd.read_csv('scopus.csv')\n",
    "\n",
    "print(f\"WoS Studies: {wos_df.shape[0]}\")\n",
    "print(f\"Scopus Studies: {scopus_df.shape[0]}\")"
   ]
  },
  {
   "cell_type": "code",
   "execution_count": 5,
   "id": "8a79d0dd",
   "metadata": {},
   "outputs": [
    {
     "name": "stdout",
     "output_type": "stream",
     "text": [
      "Overlapping DOIs: 35\n",
      "Unique studies: 349\n"
     ]
    }
   ],
   "source": [
    "# Find the overlap between WoS and Scopus DOIs\n",
    "wos_doi = wos_df[\"DOI\"]\n",
    "scopus_doi = scopus_df[\"DOI\"]\n",
    "\n",
    "wos_doi_clean = set(wos_doi.dropna().astype(str))\n",
    "scopus_doi_clean = set(scopus_doi.dropna().astype(str))\n",
    "\n",
    "# Find overlapping DOIs\n",
    "overlapping_dois = wos_doi_clean.intersection(scopus_doi_clean)\n",
    "\n",
    "print(f\"Overlapping DOIs: {len(overlapping_dois)}\")\n",
    "print(f\"Unique studies: {wos_df.shape[0] + scopus_df.shape[0] - len(overlapping_dois)}\")"
   ]
  }
 ],
 "metadata": {
  "kernelspec": {
   "display_name": ".venv",
   "language": "python",
   "name": "python3"
  },
  "language_info": {
   "codemirror_mode": {
    "name": "ipython",
    "version": 3
   },
   "file_extension": ".py",
   "mimetype": "text/x-python",
   "name": "python",
   "nbconvert_exporter": "python",
   "pygments_lexer": "ipython3",
   "version": "3.11.9"
  }
 },
 "nbformat": 4,
 "nbformat_minor": 5
}
